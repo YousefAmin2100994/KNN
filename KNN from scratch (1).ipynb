{
 "cells": [
  {
   "cell_type": "markdown",
   "id": "ba6c4f78",
   "metadata": {},
   "source": [
    "# *Importing Modules*"
   ]
  },
  {
   "cell_type": "code",
   "execution_count": 1,
   "id": "c61aee18",
   "metadata": {},
   "outputs": [],
   "source": [
    "import numpy as np\n",
    "import pandas as pd\n",
    "from matplotlib import pyplot as plt "
   ]
  },
  {
   "cell_type": "markdown",
   "id": "d22ada6d",
   "metadata": {},
   "source": [
    "# *Compute Distance*"
   ]
  },
  {
   "cell_type": "code",
   "execution_count": 2,
   "id": "9f465f52",
   "metadata": {},
   "outputs": [
    {
     "data": {
      "text/plain": [
       "5.196152422706632"
      ]
     },
     "execution_count": 2,
     "metadata": {},
     "output_type": "execute_result"
    }
   ],
   "source": [
    "def Compute_distance(row1,row2):\n",
    "    distance=0\n",
    "    for i in range(len(row1)):\n",
    "        distance += (row1[i]-row2[i])**2\n",
    "    return np.sqrt(distance)\n",
    "Compute_distance([1,2,3],[4,5,6])"
   ]
  },
  {
   "cell_type": "markdown",
   "id": "90140692",
   "metadata": {},
   "source": [
    "# *Compute All Distance*"
   ]
  },
  {
   "cell_type": "code",
   "execution_count": 6,
   "id": "5c9b427d",
   "metadata": {},
   "outputs": [],
   "source": [
    "def Compute_All_Distance(df,row):\n",
    "    distance_dictionary={}\n",
    "    m=len(df) #number of rows\n",
    "    for i in range(m):\n",
    "        distance_dictionary.setdefault(i,Compute_distance(row,df[i]))\n",
    "    return distance_dictionary\n",
    "\n",
    "distance_dic=Compute_Nearest_Neigbours([[2.7810836,2.550537003,0],\n",
    " [1.465489372,2.362125076,0],\n",
    " [3.396561688,4.400293529,0],\n",
    " [1.38807019,1.850220317,0],\n",
    " [3.06407232,3.005305973,0],\n",
    " [7.627531214,2.759262235,1],\n",
    " [5.332441248,2.088626775,1],\n",
    " [6.922596716,1.77106367,1],\n",
    " [8.675418651,-0.242068655,1],\n",
    " [7.673756466,3.508563011,1]],[1.243,2.345])"
   ]
  },
  {
   "cell_type": "markdown",
   "id": "b3dc6432",
   "metadata": {},
   "source": [
    "# *Get the minimum K indices*"
   ]
  },
  {
   "cell_type": "code",
   "execution_count": 9,
   "id": "4a2c9e13",
   "metadata": {},
   "outputs": [
    {
     "data": {
      "text/plain": [
       "[1, 3, 0]"
      ]
     },
     "execution_count": 9,
     "metadata": {},
     "output_type": "execute_result"
    }
   ],
   "source": [
    "def Get_the_minimum_K_indices(distance_dic, k):\n",
    "    new_dic = dict(sorted(distance_dic.items(), key=lambda item: item[1]))\n",
    "    return list(new_dic.keys())[:k]\n",
    "Get_the_minimum_K_indices(distance_dic,3)"
   ]
  },
  {
   "cell_type": "markdown",
   "id": "6d98ce1a",
   "metadata": {},
   "source": [
    "# *Get Prediction*"
   ]
  },
  {
   "cell_type": "code",
   "execution_count": 13,
   "id": "644c0285",
   "metadata": {},
   "outputs": [
    {
     "data": {
      "text/plain": [
       "0"
      ]
     },
     "execution_count": 13,
     "metadata": {},
     "output_type": "execute_result"
    }
   ],
   "source": [
    "def Get_prediction_classification(my_list, list_of_indices):\n",
    "    classification_dic = {}\n",
    "    for index in list_of_indices:\n",
    "        label = my_list[index][-1]\n",
    "        classification_dic[label] = classification_dic.get(label, 0) + 1\n",
    "\n",
    "    max_count = 0\n",
    "    predicted_label = None\n",
    "    for label, count in classification_dic.items():\n",
    "        if count > max_count:\n",
    "            max_count = count\n",
    "            predicted_label = label\n",
    "\n",
    "    return predicted_label\n",
    "\n",
    "Get_prediction_classification([[2.7810836,2.550537003,0],\n",
    " [1.465489372,2.362125076,0],\n",
    " [3.396561688,4.400293529,0],\n",
    " [1.38807019,1.850220317,0],\n",
    " [3.06407232,3.005305973,0],\n",
    " [7.627531214,2.759262235,1],\n",
    " [5.332441248,2.088626775,1],\n",
    " [6.922596716,1.77106367,1],\n",
    " [8.675418651,-0.242068655,1],\n",
    " [7.673756466,3.508563011,1]],Get_the_minimum_K_indices(distance_dic,4))"
   ]
  },
  {
   "cell_type": "code",
   "execution_count": 14,
   "id": "d912f5a1",
   "metadata": {},
   "outputs": [
    {
     "data": {
      "text/plain": [
       "16.425"
      ]
     },
     "execution_count": 14,
     "metadata": {},
     "output_type": "execute_result"
    }
   ],
   "source": [
    "def Get_prediction_regression(my_list,list_of_indicies):\n",
    "    return np.mean([my_list[item][-1] for item in list_of_indicies])\n",
    "\n",
    "Get_prediction_regression([[2.7810836,2.550537003,13.5],\n",
    " [1.465489372,2.362125076,14.2],\n",
    " [3.396561688,4.400293529,15.7],\n",
    " [1.38807019,1.850220317,17.2],\n",
    " [3.06407232,3.005305973,20.8],\n",
    " [7.627531214,2.759262235,40],\n",
    " [5.332441248,2.088626775,41],\n",
    " [6.922596716,1.77106367,16],\n",
    " [8.675418651,-0.242068655,17],\n",
    " [7.673756466,3.508563011,31.7]],Get_the_minimum_K_indices(distance_dic,4))"
   ]
  },
  {
   "cell_type": "markdown",
   "id": "b840387c",
   "metadata": {},
   "source": [
    "# *Graph* "
   ]
  },
  {
   "cell_type": "code",
   "execution_count": 18,
   "id": "da6fec4f",
   "metadata": {},
   "outputs": [
    {
     "data": {
      "image/png": "[encoded data removed]",
      "text/plain": [
       "<Figure size 640x480 with 1 Axes>"
      ]
     },
     "metadata": {},
     "output_type": "display_data"
    }
   ],
   "source": [
    "my_list = [[2.7810836, 2.550537003, 0],\n",
    "           [1.465489372, 2.362125076, 0],\n",
    "           [3.396561688, 4.400293529, 0],\n",
    "           [1.38807019, 1.850220317, 0],\n",
    "           [3.06407232, 3.005305973, 0],\n",
    "           [7.627531214, 2.759262235, 1],\n",
    "           [5.332441248, 2.088626775, 1],\n",
    "           [6.922596716, 1.77106367, 1],\n",
    "           [8.675418651, -0.242068655, 1],\n",
    "           [7.673756466, 3.508563011, 1]]\n",
    "\n",
    "x = [point[0] for point in my_list]\n",
    "y = [point[1] for point in my_list]\n",
    "\n",
    "plt.style.use('ggplot')\n",
    "for point in my_list:\n",
    "    if point[-1] == 1:\n",
    "        plt.plot(point[0], point[1], marker='x', color='red')  # Class 1\n",
    "    else:\n",
    "        plt.plot(point[0], point[1], marker='o', color='blue')  # Class 0\n",
    "\n",
    "plt.xlabel('X')\n",
    "plt.ylabel('Y')\n",
    "plt.title('Scatter plot of the dataset')\n",
    "plt.show()\n"
   ]
  },
  {
   "cell_type": "markdown",
   "id": "2f37127b",
   "metadata": {},
   "source": [
    "# *After Putting The Test Point*"
   ]
  },
  {
   "cell_type": "code",
   "execution_count": 24,
   "id": "7489c6f4",
   "metadata": {},
   "outputs": [
    {
     "data": {
      "image/png": "[encoded data removed]",
      "text/plain": [
       "<Figure size 640x480 with 1 Axes>"
      ]
     },
     "metadata": {},
     "output_type": "display_data"
    }
   ],
   "source": [
    "for point in my_list:\n",
    "    if point[-1] == 1:\n",
    "        plt.plot(point[0], point[1], marker='x', color='red')  # Class 1\n",
    "    else:\n",
    "        plt.plot(point[0], point[1], marker='o', color='blue')  # Class 0\n",
    "\n",
    "plt.xlabel('X')\n",
    "plt.ylabel('Y')\n",
    "plt.title('Scatter plot of the dataset')\n",
    "plt.plot(1.243, 2.345, color='black', marker='o', markersize=10, label='Test Point')\n",
    "plt.legend()\n",
    "plt.show()"
   ]
  },
  {
   "cell_type": "code",
   "execution_count": null,
   "id": "4bc972ee",
   "metadata": {},
   "outputs": [],
   "source": []
  }
 ],
 "metadata": {
  "kernelspec": {
   "display_name": "Python 3 (ipykernel)",
   "language": "python",
   "name": "python3"
  },
  "language_info": {
   "codemirror_mode": {
    "name": "ipython",
    "version": 3
   },
   "file_extension": ".py",
   "mimetype": "text/x-python",
   "name": "python",
   "nbconvert_exporter": "python",
   "pygments_lexer": "ipython3",
   "version": "3.11.5"
  }
 },
 "nbformat": 4,
 "nbformat_minor": 5
}
